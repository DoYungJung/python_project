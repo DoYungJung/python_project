{
 "cells": [
  {
   "cell_type": "markdown",
   "id": "07d805eb-cf36-48ee-b36e-b8a7f9e2a4b2",
   "metadata": {},
   "source": [
    "## 1. 라이브러리 선언 "
   ]
  },
  {
   "cell_type": "code",
   "execution_count": 1,
   "id": "23eab83a-3d3d-48c2-a490-2faec77017b9",
   "metadata": {},
   "outputs": [],
   "source": [
    "import pandas as pd\n",
    "# 데이터 분석을 위하여 판다스를 선언한다.\n",
    "\n",
    "import numpy as np\n",
    "# 원하는 컬럼을 조회하기 위한 방법 중  np.where을 사용하기 위하여 numpy를 선언한다"
   ]
  },
  {
   "cell_type": "markdown",
   "id": "0a4a5889-dad3-4d62-9b60-676f750efbe2",
   "metadata": {},
   "source": [
    "## 2. csv파일 불러오기"
   ]
  },
  {
   "cell_type": "code",
   "execution_count": 2,
   "id": "ecac640c-c511-46a5-bcb5-ed4c32a00be4",
   "metadata": {},
   "outputs": [],
   "source": [
    "selloutData =\\\n",
    "    pd.read_csv(\"../dataset/kopo_channel_seasonality_new.csv\")"
   ]
  },
  {
   "cell_type": "markdown",
   "id": "fbda79cd-d8e1-427a-8d02-028ebeb8e458",
   "metadata": {
    "tags": []
   },
   "source": [
    "## 3. 타입 통합 & 불량데이터 처리"
   ]
  },
  {
   "cell_type": "code",
   "execution_count": 3,
   "id": "33e4d344-d8a7-48b4-9492-6ff81b1e0488",
   "metadata": {},
   "outputs": [
    {
     "name": "stdout",
     "output_type": "stream",
     "text": [
      "<class 'pandas.core.frame.DataFrame'>\n",
      "RangeIndex: 124658 entries, 0 to 124657\n",
      "Data columns (total 4 columns):\n",
      " #   Column    Non-Null Count   Dtype  \n",
      "---  ------    --------------   -----  \n",
      " 0   REGIONID  124658 non-null  object \n",
      " 1   PRODUCT   124658 non-null  object \n",
      " 2   YEARWEEK  124658 non-null  int64  \n",
      " 3   QTY       124658 non-null  float64\n",
      "dtypes: float64(1), int64(1), object(2)\n",
      "memory usage: 3.8+ MB\n",
      "<class 'pandas.core.frame.DataFrame'>\n",
      "RangeIndex: 124658 entries, 0 to 124657\n",
      "Data columns (total 4 columns):\n",
      " #   Column    Non-Null Count   Dtype  \n",
      "---  ------    --------------   -----  \n",
      " 0   REGIONID  124658 non-null  object \n",
      " 1   PRODUCT   124658 non-null  object \n",
      " 2   YEARWEEK  124658 non-null  object \n",
      " 3   QTY       124658 non-null  float64\n",
      "dtypes: float64(1), object(3)\n",
      "memory usage: 3.8+ MB\n"
     ]
    },
    {
     "data": {
      "text/plain": [
       "REGIONID    0\n",
       "PRODUCT     0\n",
       "YEARWEEK    0\n",
       "QTY         0\n",
       "QTY_NEW     0\n",
       "dtype: int64"
      ]
     },
     "execution_count": 3,
     "metadata": {},
     "output_type": "execute_result"
    }
   ],
   "source": [
    "selloutData.info()\n",
    "selloutData.dtypes\n",
    "# 데이터프레임의 칼럼별 정보와 타입을 확인한다.\n",
    "\n",
    "selloutData.QTY = selloutData.QTY.astype(float) \n",
    "selloutData = selloutData.astype({\"REGIONID\":str, \"PRODUCT\":str,\"YEARWEEK\":str}) \n",
    "selloutData.info()\n",
    "# 데이터프레임의 칼럼별 타입을 원하는 타입으로 변환후 확인한다.\n",
    "\n",
    "selloutData.loc[selloutData.QTY <0]\n",
    "selloutData[\"QTY_NEW\"] =\\\n",
    "    np.where(selloutData.QTY < 0,\n",
    "        0, \n",
    "        selloutData.QTY)\n",
    "# # 음수인 데이터를 0값으로 처리하고 QTY_NEW칼럼을 생성한다.\n",
    "\n",
    "selloutData\n",
    "selloutData.loc[(selloutData.QTY<0) &\n",
    "               (selloutData.QTY_NEW !=0)].count()\n",
    "# 재대로 불량데이터를 처리하고 생성하였는지 확인한다."
   ]
  },
  {
   "cell_type": "markdown",
   "id": "9f58b147-947d-4890-b210-77bdf60905c9",
   "metadata": {
    "tags": []
   },
   "source": [
    "## 4. 데이터 통합"
   ]
  },
  {
   "cell_type": "code",
   "execution_count": 4,
   "id": "d93b45e9-c574-4f94-95e0-5226cbbd5c14",
   "metadata": {},
   "outputs": [],
   "source": [
    "selloutData[\"YEAR\"]=selloutData.YEARWEEK.str[0:4]\n",
    "selloutData[\"WEEK\"]=selloutData.YEARWEEK.str[-2:]\n",
    "selloutData.WEEK = selloutData.WEEK.astype(int)\n",
    "selloutData\n",
    "\n",
    "refinedSelloutData =selloutData.loc[selloutData.WEEK<53]\n",
    "# 연도별 주차수가 다른 YEAR(53주)가 관찰되었으므로 제거 후 데이터를 통합한다."
   ]
  },
  {
   "cell_type": "markdown",
   "id": "adf3a949-9fd0-42ef-a5f0-1ec6e0eeb0da",
   "metadata": {},
   "source": [
    "## 5. 대표값 생성"
   ]
  },
  {
   "cell_type": "code",
   "execution_count": 5,
   "id": "3480a2ce-8a08-4389-84bf-3c9356deeece",
   "metadata": {},
   "outputs": [
    {
     "data": {
      "text/html": [
       "<div>\n",
       "<style scoped>\n",
       "    .dataframe tbody tr th:only-of-type {\n",
       "        vertical-align: middle;\n",
       "    }\n",
       "\n",
       "    .dataframe tbody tr th {\n",
       "        vertical-align: top;\n",
       "    }\n",
       "\n",
       "    .dataframe thead th {\n",
       "        text-align: right;\n",
       "    }\n",
       "</style>\n",
       "<table border=\"1\" class=\"dataframe\">\n",
       "  <thead>\n",
       "    <tr style=\"text-align: right;\">\n",
       "      <th></th>\n",
       "      <th>REGIONID</th>\n",
       "      <th>PRODUCT</th>\n",
       "      <th>YEAR</th>\n",
       "      <th>QTY_MEAN</th>\n",
       "    </tr>\n",
       "  </thead>\n",
       "  <tbody>\n",
       "    <tr>\n",
       "      <th>0</th>\n",
       "      <td>A00</td>\n",
       "      <td>PRODUCT34</td>\n",
       "      <td>2014</td>\n",
       "      <td>275.961538</td>\n",
       "    </tr>\n",
       "    <tr>\n",
       "      <th>1</th>\n",
       "      <td>A00</td>\n",
       "      <td>PRODUCT34</td>\n",
       "      <td>2015</td>\n",
       "      <td>86.634615</td>\n",
       "    </tr>\n",
       "    <tr>\n",
       "      <th>2</th>\n",
       "      <td>A00</td>\n",
       "      <td>PRODUCT34</td>\n",
       "      <td>2016</td>\n",
       "      <td>36.576923</td>\n",
       "    </tr>\n",
       "    <tr>\n",
       "      <th>3</th>\n",
       "      <td>A00</td>\n",
       "      <td>PRODUCT58</td>\n",
       "      <td>2014</td>\n",
       "      <td>2.673077</td>\n",
       "    </tr>\n",
       "    <tr>\n",
       "      <th>4</th>\n",
       "      <td>A00</td>\n",
       "      <td>PRODUCT58</td>\n",
       "      <td>2015</td>\n",
       "      <td>5.711538</td>\n",
       "    </tr>\n",
       "    <tr>\n",
       "      <th>...</th>\n",
       "      <td>...</td>\n",
       "      <td>...</td>\n",
       "      <td>...</td>\n",
       "      <td>...</td>\n",
       "    </tr>\n",
       "    <tr>\n",
       "      <th>2377</th>\n",
       "      <td>A77</td>\n",
       "      <td>PRODUCT1</td>\n",
       "      <td>2015</td>\n",
       "      <td>3030.019231</td>\n",
       "    </tr>\n",
       "    <tr>\n",
       "      <th>2378</th>\n",
       "      <td>A77</td>\n",
       "      <td>PRODUCT1</td>\n",
       "      <td>2016</td>\n",
       "      <td>3375.326923</td>\n",
       "    </tr>\n",
       "    <tr>\n",
       "      <th>2379</th>\n",
       "      <td>A77</td>\n",
       "      <td>PRODUCT12</td>\n",
       "      <td>2014</td>\n",
       "      <td>2035.788462</td>\n",
       "    </tr>\n",
       "    <tr>\n",
       "      <th>2380</th>\n",
       "      <td>A77</td>\n",
       "      <td>PRODUCT12</td>\n",
       "      <td>2015</td>\n",
       "      <td>3540.980769</td>\n",
       "    </tr>\n",
       "    <tr>\n",
       "      <th>2381</th>\n",
       "      <td>A77</td>\n",
       "      <td>PRODUCT12</td>\n",
       "      <td>2016</td>\n",
       "      <td>4837.153846</td>\n",
       "    </tr>\n",
       "  </tbody>\n",
       "</table>\n",
       "<p>2382 rows × 4 columns</p>\n",
       "</div>"
      ],
      "text/plain": [
       "     REGIONID    PRODUCT  YEAR     QTY_MEAN\n",
       "0         A00  PRODUCT34  2014   275.961538\n",
       "1         A00  PRODUCT34  2015    86.634615\n",
       "2         A00  PRODUCT34  2016    36.576923\n",
       "3         A00  PRODUCT58  2014     2.673077\n",
       "4         A00  PRODUCT58  2015     5.711538\n",
       "...       ...        ...   ...          ...\n",
       "2377      A77   PRODUCT1  2015  3030.019231\n",
       "2378      A77   PRODUCT1  2016  3375.326923\n",
       "2379      A77  PRODUCT12  2014  2035.788462\n",
       "2380      A77  PRODUCT12  2015  3540.980769\n",
       "2381      A77  PRODUCT12  2016  4837.153846\n",
       "\n",
       "[2382 rows x 4 columns]"
      ]
     },
     "execution_count": 5,
     "metadata": {},
     "output_type": "execute_result"
    }
   ],
   "source": [
    "sortKey = [\"REGIONID\",\"PRODUCT\",\"YEARWEEK\",\"QTY\"]\n",
    "# 정렬의 기준이 될 컬럼들을 저장\n",
    "sortedData = refinedSelloutData.sort_values(by =sortKey,\n",
    "                               ascending = [True, True, True, True])\n",
    "# 정렬\n",
    "\n",
    "# 지역/상품/연도별 판매량 산출(GROUP BY 활용)\n",
    "\n",
    "groupKey = [\"REGIONID\",\"PRODUCT\",\"YEAR\"]\n",
    "# 그룹바이를 할 KEY값들을 저장\n",
    "groupData= sortedData.groupby(by=groupKey)[\"QTY_NEW\"].agg([\"mean\"]).reset_index()\n",
    "# QTY_NEW컬럼의 평균값을 만든후 GROUPDATA로 저장\n",
    "groupData = groupData.rename(columns = {\"mean\":\"QTY_MEAN\"})\n",
    "# 컬럼명을 QTY_MEAN으로 변경\n",
    "groupData"
   ]
  },
  {
   "cell_type": "markdown",
   "id": "329ca54c-703b-479c-b62e-8ef32694d503",
   "metadata": {},
   "source": [
    "## 6. 계절성 지수 계산"
   ]
  },
  {
   "cell_type": "code",
   "execution_count": 6,
   "id": "fbcf1caa-4526-4726-bf19-caa3691f6ac2",
   "metadata": {},
   "outputs": [],
   "source": [
    "joinKey=[\"REGIONID\",\"PRODUCT\",\"YEAR\"]\n",
    "# 조인을 하기위하여 \n",
    "\n",
    "mergedData = pd.merge(left=refinedSelloutData,\n",
    "         right=groupData,\n",
    "         on=joinKey,\n",
    "         how=\"inner\")\n",
    "\n",
    "# 계절성지수 = 실(QTY)/(지역,상품,연도별판매량 )\n",
    "# 계절성 지수를 만들기 위하여 정제된 데이터와 대표값데이터를 합친다\n",
    "\n",
    "mergedData[\"SEASONALITY\"]=mergedData.QTY_NEW/mergedData.QTY_MEAN"
   ]
  },
  {
   "cell_type": "markdown",
   "id": "b31fb810-87b7-44ac-b17d-8f72d712e5e1",
   "metadata": {},
   "source": [
    "## 7. 주차별 효과 계산"
   ]
  },
  {
   "cell_type": "code",
   "execution_count": 7,
   "id": "681b2b45-5084-4974-b75e-b324c8d4b64b",
   "metadata": {},
   "outputs": [],
   "source": [
    "# 지역/상품/주차별 지수를 산출한다."
   ]
  },
  {
   "cell_type": "code",
   "execution_count": 8,
   "id": "ccb6d559-3050-4cc8-8322-f38e0f4dea51",
   "metadata": {},
   "outputs": [
    {
     "data": {
      "text/html": [
       "<div>\n",
       "<style scoped>\n",
       "    .dataframe tbody tr th:only-of-type {\n",
       "        vertical-align: middle;\n",
       "    }\n",
       "\n",
       "    .dataframe tbody tr th {\n",
       "        vertical-align: top;\n",
       "    }\n",
       "\n",
       "    .dataframe thead th {\n",
       "        text-align: right;\n",
       "    }\n",
       "</style>\n",
       "<table border=\"1\" class=\"dataframe\">\n",
       "  <thead>\n",
       "    <tr style=\"text-align: right;\">\n",
       "      <th></th>\n",
       "      <th>REGIONID</th>\n",
       "      <th>PRODUCT</th>\n",
       "      <th>WEEK</th>\n",
       "      <th>SEASONALITY</th>\n",
       "    </tr>\n",
       "  </thead>\n",
       "  <tbody>\n",
       "    <tr>\n",
       "      <th>0</th>\n",
       "      <td>A00</td>\n",
       "      <td>PRODUCT34</td>\n",
       "      <td>1</td>\n",
       "      <td>1.570782</td>\n",
       "    </tr>\n",
       "    <tr>\n",
       "      <th>1</th>\n",
       "      <td>A00</td>\n",
       "      <td>PRODUCT34</td>\n",
       "      <td>2</td>\n",
       "      <td>1.755540</td>\n",
       "    </tr>\n",
       "    <tr>\n",
       "      <th>2</th>\n",
       "      <td>A00</td>\n",
       "      <td>PRODUCT34</td>\n",
       "      <td>3</td>\n",
       "      <td>1.319460</td>\n",
       "    </tr>\n",
       "    <tr>\n",
       "      <th>3</th>\n",
       "      <td>A00</td>\n",
       "      <td>PRODUCT34</td>\n",
       "      <td>4</td>\n",
       "      <td>1.490298</td>\n",
       "    </tr>\n",
       "    <tr>\n",
       "      <th>4</th>\n",
       "      <td>A00</td>\n",
       "      <td>PRODUCT34</td>\n",
       "      <td>5</td>\n",
       "      <td>1.061909</td>\n",
       "    </tr>\n",
       "    <tr>\n",
       "      <th>...</th>\n",
       "      <td>...</td>\n",
       "      <td>...</td>\n",
       "      <td>...</td>\n",
       "      <td>...</td>\n",
       "    </tr>\n",
       "    <tr>\n",
       "      <th>41283</th>\n",
       "      <td>A77</td>\n",
       "      <td>PRODUCT12</td>\n",
       "      <td>48</td>\n",
       "      <td>1.352712</td>\n",
       "    </tr>\n",
       "    <tr>\n",
       "      <th>41284</th>\n",
       "      <td>A77</td>\n",
       "      <td>PRODUCT12</td>\n",
       "      <td>49</td>\n",
       "      <td>1.094083</td>\n",
       "    </tr>\n",
       "    <tr>\n",
       "      <th>41285</th>\n",
       "      <td>A77</td>\n",
       "      <td>PRODUCT12</td>\n",
       "      <td>50</td>\n",
       "      <td>1.386116</td>\n",
       "    </tr>\n",
       "    <tr>\n",
       "      <th>41286</th>\n",
       "      <td>A77</td>\n",
       "      <td>PRODUCT12</td>\n",
       "      <td>51</td>\n",
       "      <td>1.255192</td>\n",
       "    </tr>\n",
       "    <tr>\n",
       "      <th>41287</th>\n",
       "      <td>A77</td>\n",
       "      <td>PRODUCT12</td>\n",
       "      <td>52</td>\n",
       "      <td>1.388175</td>\n",
       "    </tr>\n",
       "  </tbody>\n",
       "</table>\n",
       "<p>41288 rows × 4 columns</p>\n",
       "</div>"
      ],
      "text/plain": [
       "      REGIONID    PRODUCT  WEEK  SEASONALITY\n",
       "0          A00  PRODUCT34     1     1.570782\n",
       "1          A00  PRODUCT34     2     1.755540\n",
       "2          A00  PRODUCT34     3     1.319460\n",
       "3          A00  PRODUCT34     4     1.490298\n",
       "4          A00  PRODUCT34     5     1.061909\n",
       "...        ...        ...   ...          ...\n",
       "41283      A77  PRODUCT12    48     1.352712\n",
       "41284      A77  PRODUCT12    49     1.094083\n",
       "41285      A77  PRODUCT12    50     1.386116\n",
       "41286      A77  PRODUCT12    51     1.255192\n",
       "41287      A77  PRODUCT12    52     1.388175\n",
       "\n",
       "[41288 rows x 4 columns]"
      ]
     },
     "execution_count": 8,
     "metadata": {},
     "output_type": "execute_result"
    }
   ],
   "source": [
    "groupKey=[\"REGIONID\",\"PRODUCT\",\"WEEK\"]\n",
    "finalResult=mergedData.groupby(by=groupKey)[\"SEASONALITY\"].agg([\"mean\"]).reset_index()\n",
    "finalResult=finalResult.rename(columns={\"mean\":\"SEASONALITY\"})\n",
    "\n",
    "finalResult"
   ]
  },
  {
   "cell_type": "code",
   "execution_count": null,
   "id": "66bd70e2-70f5-4eca-ba79-6b07d253aa72",
   "metadata": {},
   "outputs": [],
   "source": []
  }
 ],
 "metadata": {
  "kernelspec": {
   "display_name": "Python 3 (ipykernel)",
   "language": "python",
   "name": "python3"
  },
  "language_info": {
   "codemirror_mode": {
    "name": "ipython",
    "version": 3
   },
   "file_extension": ".py",
   "mimetype": "text/x-python",
   "name": "python",
   "nbconvert_exporter": "python",
   "pygments_lexer": "ipython3",
   "version": "3.9.7"
  }
 },
 "nbformat": 4,
 "nbformat_minor": 5
}
